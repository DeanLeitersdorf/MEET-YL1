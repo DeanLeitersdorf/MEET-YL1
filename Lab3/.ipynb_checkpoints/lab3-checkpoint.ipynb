{
 "metadata": {
  "name": ""
 },
 "nbformat": 3,
 "nbformat_minor": 0,
 "worksheets": [
  {
   "cells": [
    {
     "cell_type": "code",
     "collapsed": false,
     "input": [
      "import csv\n",
      "\n"
     ],
     "language": "python",
     "metadata": {},
     "outputs": [],
     "prompt_number": 1
    },
    {
     "cell_type": "code",
     "collapsed": false,
     "input": [
      "f = open('cig.csv', 'rb')\n",
      "reader = csv.reader(f)\n",
      "index = 0\n",
      "for row in reader:\n",
      "    if index != 0:\n",
      " \t print row\n",
      "    index += 1\n",
      "f.close()"
     ],
     "language": "python",
     "metadata": {},
     "outputs": [
      {
       "output_type": "stream",
       "stream": "stdout",
       "text": [
        "['Benson&Hedges\\t16.0 1.06 1.0938  16.6']\n",
        "['BullDurham\\t29.8 2.03 1.1650  23.5']\n",
        "['CamelLights\\t 8.0  .67  .9280  10.2']\n",
        "['Carlton\\t\\t 4.1  .40  .9462   5.4']\n",
        "['Chesterfield\\t15.0 1.04  .8885  15.0']\n",
        "['GoldenLights\\t 8.8  .76 1.0267   9.0']\n",
        "['Kent\\t\\t12.4  .95  .9225  12.3']\n",
        "['Kool\\t\\t16.6 1.12  .9372  16.3']\n",
        "['L&M\\t\\t14.9 1.02  .8858  15.4']\n",
        "['LarkLights\\t13.7 1.01  .9643  13.0']\n",
        "['Marlboro\\t15.1  .90  .9316  14.4']\n",
        "['Merit\\t\\t 7.8  .57  .9705  10.0']\n",
        "['MultiFilter\\t11.4  .78 1.1240  10.2']\n",
        "['NewportLights\\t 9.0  .74  .8517   9.5']\n",
        "['Now\\t\\t 1.0  .13  .7851   1.5']\n",
        "['OldGold\\t\\t17.0 1.26  .9186  18.5']\n",
        "['PallMallLight\\t12.8 1.08 1.0395  12.6']\n",
        "['Raleigh\\t\\t15.8  .96  .9573  17.5']\n",
        "['SalemUltra\\t 4.5  .42  .9106   4.9']\n",
        "['Tareyton\\t14.5 1.01 1.0070  15.9']\n",
        "['True\\t\\t 7.3  .61  .9806   8.5']\n",
        "['ViceroyRichLight 8.6  .69  .9693  10.6']\n",
        "['VirginiaSlims\\t15.2 1.02  .9496  13.9']\n",
        "['WinstonLights\\t12.0 .82  1.1184  14.9']\n"
       ]
      }
     ],
     "prompt_number": 2
    },
    {
     "cell_type": "code",
     "collapsed": false,
     "input": [
      "f = open('cig.csv', 'rb')\n",
      "reader = csv.reader(f)\n",
      "index = 0\n",
      "for row in reader:\n",
      "    if index != 0:\n",
      "        row[0] = row[0].replace(\"\\t\", \" \")\n",
      "        print row\n",
      "    index += 1\n",
      "f.close()"
     ],
     "language": "python",
     "metadata": {},
     "outputs": [
      {
       "output_type": "stream",
       "stream": "stdout",
       "text": [
        "['Benson&Hedges 16.0 1.06 1.0938  16.6']\n",
        "['BullDurham 29.8 2.03 1.1650  23.5']\n",
        "['CamelLights  8.0  .67  .9280  10.2']\n",
        "['Carlton   4.1  .40  .9462   5.4']\n",
        "['Chesterfield 15.0 1.04  .8885  15.0']\n",
        "['GoldenLights  8.8  .76 1.0267   9.0']\n",
        "['Kent  12.4  .95  .9225  12.3']\n",
        "['Kool  16.6 1.12  .9372  16.3']\n",
        "['L&M  14.9 1.02  .8858  15.4']\n",
        "['LarkLights 13.7 1.01  .9643  13.0']\n",
        "['Marlboro 15.1  .90  .9316  14.4']\n",
        "['Merit   7.8  .57  .9705  10.0']\n",
        "['MultiFilter 11.4  .78 1.1240  10.2']\n",
        "['NewportLights  9.0  .74  .8517   9.5']\n",
        "['Now   1.0  .13  .7851   1.5']\n",
        "['OldGold  17.0 1.26  .9186  18.5']\n",
        "['PallMallLight 12.8 1.08 1.0395  12.6']\n",
        "['Raleigh  15.8  .96  .9573  17.5']\n",
        "['SalemUltra  4.5  .42  .9106   4.9']\n",
        "['Tareyton 14.5 1.01 1.0070  15.9']\n",
        "['True   7.3  .61  .9806   8.5']\n",
        "['ViceroyRichLight 8.6  .69  .9693  10.6']\n",
        "['VirginiaSlims 15.2 1.02  .9496  13.9']\n",
        "['WinstonLights 12.0 .82  1.1184  14.9']\n"
       ]
      }
     ],
     "prompt_number": 10
    },
    {
     "cell_type": "code",
     "collapsed": false,
     "input": [
      "f = open('cig.csv', 'rb')\n",
      "reader = csv.reader(f)\n",
      "index = 0\n",
      "for row in reader:\n",
      "    if index != 0:\n",
      "        row[0] = row[0].replace(\"\\t\", \" \")\n",
      "        a = row[0].split()\n",
      "        print a\n",
      "    index += 1\n",
      "f.close()"
     ],
     "language": "python",
     "metadata": {},
     "outputs": [
      {
       "output_type": "stream",
       "stream": "stdout",
       "text": [
        "['Benson&Hedges', '16.0', '1.06', '1.0938', '16.6']\n",
        "['BullDurham', '29.8', '2.03', '1.1650', '23.5']\n",
        "['CamelLights', '8.0', '.67', '.9280', '10.2']\n",
        "['Carlton', '4.1', '.40', '.9462', '5.4']\n",
        "['Chesterfield', '15.0', '1.04', '.8885', '15.0']\n",
        "['GoldenLights', '8.8', '.76', '1.0267', '9.0']\n",
        "['Kent', '12.4', '.95', '.9225', '12.3']\n",
        "['Kool', '16.6', '1.12', '.9372', '16.3']\n",
        "['L&M', '14.9', '1.02', '.8858', '15.4']\n",
        "['LarkLights', '13.7', '1.01', '.9643', '13.0']\n",
        "['Marlboro', '15.1', '.90', '.9316', '14.4']\n",
        "['Merit', '7.8', '.57', '.9705', '10.0']\n",
        "['MultiFilter', '11.4', '.78', '1.1240', '10.2']\n",
        "['NewportLights', '9.0', '.74', '.8517', '9.5']\n",
        "['Now', '1.0', '.13', '.7851', '1.5']\n",
        "['OldGold', '17.0', '1.26', '.9186', '18.5']\n",
        "['PallMallLight', '12.8', '1.08', '1.0395', '12.6']\n",
        "['Raleigh', '15.8', '.96', '.9573', '17.5']\n",
        "['SalemUltra', '4.5', '.42', '.9106', '4.9']\n",
        "['Tareyton', '14.5', '1.01', '1.0070', '15.9']\n",
        "['True', '7.3', '.61', '.9806', '8.5']\n",
        "['ViceroyRichLight', '8.6', '.69', '.9693', '10.6']\n",
        "['VirginiaSlims', '15.2', '1.02', '.9496', '13.9']\n",
        "['WinstonLights', '12.0', '.82', '1.1184', '14.9']\n"
       ]
      }
     ],
     "prompt_number": 11
    },
    {
     "cell_type": "code",
     "collapsed": false,
     "input": [
      "f = open('cig.csv', 'rb')\n",
      "reader = csv.reader(f)\n",
      "index = 0\n",
      "tar = []\n",
      "nicotine = []\n",
      "weight = []\n",
      "for row in reader:\n",
      "    if index != 0:\n",
      "        row[0] = row[0].replace(\"\\t\", \" \")\n",
      "        a = row[0].split()\n",
      "        print a\n",
      "        tar.append(a[1])\n",
      "        nicotine.append(a[2])\n",
      "        weight.append(a[3])\n",
      "    index += 1\n",
      "print \n",
      "print \"Tar = \" + str(tar)\n",
      "print \"Nicotine = \" + str(nicotine)\n",
      "print \"Weight = \" + str(weight)\n",
      "f.close()"
     ],
     "language": "python",
     "metadata": {},
     "outputs": [
      {
       "output_type": "stream",
       "stream": "stdout",
       "text": [
        "['Benson&Hedges', '16.0', '1.06', '1.0938', '16.6']\n",
        "['BullDurham', '29.8', '2.03', '1.1650', '23.5']\n",
        "['CamelLights', '8.0', '.67', '.9280', '10.2']\n",
        "['Carlton', '4.1', '.40', '.9462', '5.4']\n",
        "['Chesterfield', '15.0', '1.04', '.8885', '15.0']\n",
        "['GoldenLights', '8.8', '.76', '1.0267', '9.0']\n",
        "['Kent', '12.4', '.95', '.9225', '12.3']\n",
        "['Kool', '16.6', '1.12', '.9372', '16.3']\n",
        "['L&M', '14.9', '1.02', '.8858', '15.4']\n",
        "['LarkLights', '13.7', '1.01', '.9643', '13.0']\n",
        "['Marlboro', '15.1', '.90', '.9316', '14.4']\n",
        "['Merit', '7.8', '.57', '.9705', '10.0']\n",
        "['MultiFilter', '11.4', '.78', '1.1240', '10.2']\n",
        "['NewportLights', '9.0', '.74', '.8517', '9.5']\n",
        "['Now', '1.0', '.13', '.7851', '1.5']\n",
        "['OldGold', '17.0', '1.26', '.9186', '18.5']\n",
        "['PallMallLight', '12.8', '1.08', '1.0395', '12.6']\n",
        "['Raleigh', '15.8', '.96', '.9573', '17.5']\n",
        "['SalemUltra', '4.5', '.42', '.9106', '4.9']\n",
        "['Tareyton', '14.5', '1.01', '1.0070', '15.9']\n",
        "['True', '7.3', '.61', '.9806', '8.5']\n",
        "['ViceroyRichLight', '8.6', '.69', '.9693', '10.6']\n",
        "['VirginiaSlims', '15.2', '1.02', '.9496', '13.9']\n",
        "['WinstonLights', '12.0', '.82', '1.1184', '14.9']\n",
        "\n",
        "Tar = ['16.0', '29.8', '8.0', '4.1', '15.0', '8.8', '12.4', '16.6', '14.9', '13.7', '15.1', '7.8', '11.4', '9.0', '1.0', '17.0', '12.8', '15.8', '4.5', '14.5', '7.3', '8.6', '15.2', '12.0']\n",
        "Nicotine = ['1.06', '2.03', '.67', '.40', '1.04', '.76', '.95', '1.12', '1.02', '1.01', '.90', '.57', '.78', '.74', '.13', '1.26', '1.08', '.96', '.42', '1.01', '.61', '.69', '1.02', '.82']\n",
        "Weight = ['1.0938', '1.1650', '.9280', '.9462', '.8885', '1.0267', '.9225', '.9372', '.8858', '.9643', '.9316', '.9705', '1.1240', '.8517', '.7851', '.9186', '1.0395', '.9573', '.9106', '1.0070', '.9806', '.9693', '.9496', '1.1184']\n"
       ]
      }
     ],
     "prompt_number": 33
    },
    {
     "cell_type": "code",
     "collapsed": false,
     "input": [
      " from pylab import *\n",
      "\n",
      "    "
     ],
     "language": "python",
     "metadata": {},
     "outputs": [],
     "prompt_number": 19
    },
    {
     "cell_type": "code",
     "collapsed": false,
     "input": [
      "\n",
      "scatter(tar, nicotine)\n",
      "savefig(\"cig_scatter.png\")"
     ],
     "language": "python",
     "metadata": {},
     "outputs": [
      {
       "metadata": {},
       "output_type": "display_data",
       "png": "[encoded data removed]",
       "text": [
        "<matplotlib.figure.Figure at 0x7eea6d8>"
       ]
      }
     ],
     "prompt_number": 27
    },
    {
     "cell_type": "code",
     "collapsed": false,
     "input": [
      "graph = plt.figure()\n",
      "table = graph.add_subplot(111)\n",
      "table.set_title('Cigar tar and nicotine')\n",
      "table.set_xlabel('Cigar tar (mg)')\n",
      "table.set_ylabel('Cigar nicotine (mg)')\n",
      "table.scatter(tar, nicotine)\n",
      "graph.savefig(\"cig_scatter_labels.png\")"
     ],
     "language": "python",
     "metadata": {},
     "outputs": [
      {
       "metadata": {},
       "output_type": "display_data",
       "png": "[encoded data removed]",
       "text": [
        "<matplotlib.figure.Figure at 0x7d48438>"
       ]
      }
     ],
     "prompt_number": 28
    }
   ],
   "metadata": {}
  }
 ]
}