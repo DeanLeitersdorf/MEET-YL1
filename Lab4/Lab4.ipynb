{
 "metadata": {
  "name": ""
 },
 "nbformat": 3,
 "nbformat_minor": 0,
 "worksheets": [
  {
   "cells": [
    {
     "cell_type": "code",
     "collapsed": false,
     "input": [
      "class Integer(object):\n",
      "    def __init__(self,number,isNegative):\n",
      "        self.Int = number\n",
      "        if(isNegative):\n",
      "            self.Int = -number\n",
      "        \n",
      "    def display(self, isPositive):\n",
      "        if (isPositive):\n",
      "            print \"Your positive number: \"\n",
      "        print self.Int\n",
      "        \n",
      "    def operation(n1, n2, o):\n",
      "        if (o==\"add\"):\n",
      "            return n1.Int+n2.Int\n",
      "        if (o==\"subtract\"):\n",
      "            return n1.Int-n2.Int\n",
      "        if (o==\"divide\"):\n",
      "            return n1.Int/n2.Int\n",
      "        if (o==\"multiply\"):\n",
      "            return n1.Int*n2.Int\n",
      "\n",
      "class NegInt(Integer):\n",
      "    def __init__(self, number):\n",
      "        super(NegInt, self).__init__(number, True)\n",
      "    def display(self):\n",
      "        print \"Your negative number: \"\n",
      "        Integer.display(self, False)\n",
      "        \n",
      "        \n",
      "if __name__==\"__main__\":\n",
      "    \n",
      "    \n",
      "    \n",
      "    test = Integer(input(\"Please enter a positive number: \"), False)\n",
      "    \n",
      "    test2 = NegInt(input(\"Please enter a negative number: \"))\n",
      "    \n",
      "    List = [test, test2]\n",
      "    \n",
      "    for i in List:\n",
      "        i.display()\n",
      "    \n",
      "    \n",
      "    print Integer.operation(test, test2, raw_input(\"Please insert operation: \"))\n",
      "    \n",
      "    \n",
      "\n",
      "    \n",
      "        "
     ],
     "language": "python",
     "metadata": {},
     "outputs": [],
     "prompt_number": "*"
    },
    {
     "cell_type": "code",
     "collapsed": false,
     "input": [],
     "language": "python",
     "metadata": {},
     "outputs": [],
     "prompt_number": "*"
    },
    {
     "cell_type": "code",
     "collapsed": false,
     "input": [],
     "language": "python",
     "metadata": {},
     "outputs": [],
     "prompt_number": "*"
    },
    {
     "cell_type": "code",
     "collapsed": false,
     "input": [],
     "language": "python",
     "metadata": {},
     "outputs": [],
     "prompt_number": "*"
    },
    {
     "cell_type": "code",
     "collapsed": false,
     "input": [],
     "language": "python",
     "metadata": {},
     "outputs": []
    }
   ],
   "metadata": {}
  }
 ]
}