{
 "metadata": {
  "name": ""
 },
 "nbformat": 3,
 "nbformat_minor": 0,
 "worksheets": [
  {
   "cells": [
    {
     "cell_type": "code",
     "collapsed": false,
     "input": [
      "class Integer(object):\n",
      "    def __init__(self,number,isNegative):\n",
      "        self.Int = number\n",
      "        if(isNegative):\n",
      "            self.Int = -number\n",
      "        \n",
      "    def display(self):\n",
      "        print self.Int\n",
      "\n",
      "class NegInt(Integer):\n",
      "    def __init__(self, number):\n",
      "        super(NegInt, self).__init__(number, True)\n",
      "    def display(self):\n",
      "        print \"I am negative :)\"\n",
      "        Integer.display(self)\n",
      "        \n",
      "        \n",
      "if __name__==\"__main__\":\n",
      "    test = Integer(input(\"Please enter a positive number: \"), False)\n",
      "    \n",
      "    test2 = NegInt(input(\"Please enter a negative number: \"))\n",
      "    \n",
      "    List = [test, test2]\n",
      "    \n",
      "    for i in List:\n",
      "        i.display()\n",
      "\n",
      "    \n",
      "    \n",
      "        "
     ],
     "language": "python",
     "metadata": {},
     "outputs": [],
     "prompt_number": "*"
    },
    {
     "cell_type": "code",
     "collapsed": false,
     "input": [],
     "language": "python",
     "metadata": {},
     "outputs": [],
     "prompt_number": "*"
    },
    {
     "cell_type": "code",
     "collapsed": false,
     "input": [],
     "language": "python",
     "metadata": {},
     "outputs": [],
     "prompt_number": "*"
    },
    {
     "cell_type": "code",
     "collapsed": false,
     "input": [],
     "language": "python",
     "metadata": {},
     "outputs": [],
     "prompt_number": "*"
    },
    {
     "cell_type": "code",
     "collapsed": false,
     "input": [],
     "language": "python",
     "metadata": {},
     "outputs": []
    }
   ],
   "metadata": {}
  }
 ]
}